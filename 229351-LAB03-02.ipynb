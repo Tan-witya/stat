{
  "cells": [
    {
      "cell_type": "markdown",
      "metadata": {
        "id": "rUWDxJYaXbGS"
      },
      "source": [
        "ปฏิบัติการครั้งที่ 3 กระบวนวิชา 229351 Statistical Learning for Data Science\n",
        "\n",
        "คำชี้แจง\n",
        "\n",
        "1. ให้เริ่มทำปฏิบัติการจาก colab notebook ที่กำหนดให้ จากนั้นบันทึกเป็นไฟล์ *.pdf"
      ]
    },
    {
      "cell_type": "markdown",
      "metadata": {
        "id": "40DP82euz0nP"
      },
      "source": [
        "### ในปฏิบัติการนี้เราจะฝึกการทำ PCA ด้วยสองวิธี คือ\n",
        "1. หาด้วยการแยกส่วนประกอบของเมทริกซ์ผ่าน numpy\n",
        "2. หาด้วยการใช้เครื่องมือที่มีมาให้ใน scikit-learn"
      ]
    },
    {
      "cell_type": "markdown",
      "metadata": {
        "id": "BFeBRlckOxSG"
      },
      "source": [
        "ดาวน์โหลดข้อมูลสัตว์ต่างๆ 50 ชนิดดังนี้  \n",
        "ชนิดสัตว์: https://donlapark.pages.dev/229351/data/classes.txt  \n",
        "ตัวแปรต่างๆ: https://donlapark.pages.dev/229351/data/predicates.txt  \n",
        "ค่าของสัตว์แต่ละชนิด: https://donlapark.pages.dev/229351/data/predicate-matrix-continuous.txt"
      ]
    },
    {
      "cell_type": "code",
      "execution_count": 2,
      "metadata": {
        "id": "j_cb12E477_I",
        "collapsed": true,
        "colab": {
          "base_uri": "https://localhost:8080/"
        },
        "outputId": "1e0f6b3f-94d5-4fd6-aadf-7d5545feaa96"
      },
      "outputs": [
        {
          "output_type": "stream",
          "name": "stdout",
          "text": [
            "  Preparing metadata (setup.py) ... \u001b[?25l\u001b[?25hdone\n",
            "  Building wheel for wget (setup.py) ... \u001b[?25l\u001b[?25hdone\n"
          ]
        }
      ],
      "source": [
        "!pip install -q wget\n",
        "\n",
        "import numpy as np\n",
        "from matplotlib import pyplot as plt\n",
        "from sklearn.decomposition import PCA\n",
        "\n"
      ]
    },
    {
      "cell_type": "code",
      "execution_count": 3,
      "metadata": {
        "id": "m4HFWsz5j8sS",
        "collapsed": true,
        "colab": {
          "base_uri": "https://localhost:8080/"
        },
        "outputId": "82149bbc-924f-464a-c94a-cdaecac9da4d"
      },
      "outputs": [
        {
          "output_type": "stream",
          "name": "stdout",
          "text": [
            "--2025-07-19 18:49:44--  https://donlapark.pages.dev/229351/data/classes.txt\n",
            "Resolving donlapark.pages.dev (donlapark.pages.dev)... 172.66.44.200, 172.66.47.56, 2606:4700:310c::ac42:2f38, ...\n",
            "Connecting to donlapark.pages.dev (donlapark.pages.dev)|172.66.44.200|:443... connected.\n",
            "HTTP request sent, awaiting response... 200 OK\n",
            "Length: 755 [text/plain]\n",
            "Saving to: ‘classes.txt’\n",
            "\n",
            "classes.txt         100%[===================>]     755  --.-KB/s    in 0s      \n",
            "\n",
            "2025-07-19 18:49:44 (11.1 MB/s) - ‘classes.txt’ saved [755/755]\n",
            "\n",
            "--2025-07-19 18:49:44--  https://donlapark.pages.dev/229351/data/predicate-matrix-continuous.txt\n",
            "Resolving donlapark.pages.dev (donlapark.pages.dev)... 172.66.44.200, 172.66.47.56, 2606:4700:310c::ac42:2f38, ...\n",
            "Connecting to donlapark.pages.dev (donlapark.pages.dev)|172.66.44.200|:443... connected.\n",
            "HTTP request sent, awaiting response... 200 OK\n",
            "Length: 29800 (29K) [text/plain]\n",
            "Saving to: ‘predicate-matrix-continuous.txt’\n",
            "\n",
            "predicate-matrix-co 100%[===================>]  29.10K  --.-KB/s    in 0.04s   \n",
            "\n",
            "2025-07-19 18:49:45 (707 KB/s) - ‘predicate-matrix-continuous.txt’ saved [29800/29800]\n",
            "\n"
          ]
        }
      ],
      "source": [
        "# Download the files\n",
        "!wget -O classes.txt https://donlapark.pages.dev/229351/data/classes.txt\n",
        "!wget -O predicate-matrix-continuous.txt https://donlapark.pages.dev/229351/data/predicate-matrix-continuous.txt"
      ]
    },
    {
      "cell_type": "code",
      "execution_count": 4,
      "metadata": {
        "id": "5Tebr3-dBKxj",
        "colab": {
          "base_uri": "https://localhost:8080/"
        },
        "outputId": "0f18c814-d27b-44e0-b175-dcab11487acb"
      },
      "outputs": [
        {
          "output_type": "execute_result",
          "data": {
            "text/plain": [
              "array([['1', 'antelope'],\n",
              "       ['2', 'grizzly+bear'],\n",
              "       ['3', 'killer+whale'],\n",
              "       ['4', 'beaver'],\n",
              "       ['5', 'dalmatian']], dtype='<U15')"
            ]
          },
          "metadata": {},
          "execution_count": 4
        }
      ],
      "source": [
        "classes = np.genfromtxt('classes.txt',dtype='str')\n",
        "\n",
        "classes[:5]"
      ]
    },
    {
      "cell_type": "code",
      "execution_count": 5,
      "metadata": {
        "id": "O_4Mr2OWaAae",
        "colab": {
          "base_uri": "https://localhost:8080/"
        },
        "outputId": "e8d33ec5-e054-49f0-ec44-9efb052b9743"
      },
      "outputs": [
        {
          "output_type": "execute_result",
          "data": {
            "text/plain": [
              "array([[-1.  , -1.  , -1.  , -1.  , 12.34],\n",
              "       [39.25,  1.39,  0.  , 74.14,  3.75],\n",
              "       [83.4 , 64.79,  0.  ,  0.  ,  1.25],\n",
              "       [19.38,  0.  ,  0.  , 87.81,  7.5 ],\n",
              "       [69.58, 73.33,  0.  ,  6.39,  0.  ]])"
            ]
          },
          "metadata": {},
          "execution_count": 5
        }
      ],
      "source": [
        "data = np.genfromtxt('predicate-matrix-continuous.txt')\n",
        "\n",
        "data[:5,:5]"
      ]
    },
    {
      "cell_type": "markdown",
      "metadata": {
        "id": "DntRinCFiSMx"
      },
      "source": [
        "#### Exercise 1\n",
        "\n",
        "ใน code block ข้างล่างนี้ จงทำ PCA บนข้อมูลที่ได้มาให้เหลือเมทริกซ์ข้อมูลที่มีตัวแปรแค่ 2 ตัว โดยใช้ฟังก์ชัน $\\texttt{np.linalg.eigh}$  \n",
        "ดังนั้น เมทริกซ์ที่ได้ต้องมีขนาด 50x2"
      ]
    },
    {
      "cell_type": "markdown",
      "metadata": {
        "id": "H-aWhy49CquB"
      },
      "source": [
        "$$ \\Sigma =\n",
        "  \\begin{pmatrix}\n",
        "\\text{var}(X_1) & \\text{cov}(X_1,X_2) & \\cdots & \\text{cov}(X_1,X_{85}) \\\\\n",
        "\\text{cov}(X_2,X_1) & \\text{var}(X_2) & \\cdots & \\text{cov}(X_2,X_{85}) \\\\\n",
        "\\vdots & \\vdots & \\ddots & \\vdots \\\\\n",
        "\\text{cov}(X_{85},X_1) & \\text{cov}(X_{85},X_1) & \\cdots & \\text{var}(X_{85}) \\\\\n",
        "\\end{pmatrix}\n",
        " $$"
      ]
    },
    {
      "cell_type": "code",
      "execution_count": 6,
      "metadata": {
        "id": "-gCRXKb8fkuH",
        "scrolled": true,
        "colab": {
          "base_uri": "https://localhost:8080/"
        },
        "collapsed": true,
        "outputId": "5c1175cc-6a7b-4322-de45-0b84d9b11798"
      },
      "outputs": [
        {
          "output_type": "stream",
          "name": "stdout",
          "text": [
            "[[ 106.35992505   14.33200256]\n",
            " [ -76.22681969  -58.9630861 ]\n",
            " [-139.3662367   170.08767172]\n",
            " [ -54.04638157   31.85582565]\n",
            " [ -11.3917049   -29.65753503]\n",
            " [ -10.72272289  -40.87859041]\n",
            " [ 104.79228138    1.17791115]\n",
            " [ -45.38757524  -82.43016284]\n",
            " [ -82.83737143  211.92608739]\n",
            " [ -43.3052917   -90.92835147]\n",
            " [  35.20297112  -58.01597662]\n",
            " [  20.17533047  -33.18440666]\n",
            " [ -92.38136512 -127.19955243]\n",
            " [  24.05695316  129.48931695]\n",
            " [ -89.2965802  -117.35250987]\n",
            " [ 129.17123958   28.55636713]\n",
            " [   6.27693742  -43.49964663]\n",
            " [ -95.28906181  226.54893728]\n",
            " [  85.05034027   95.64111855]\n",
            " [   1.34492612  -18.3316707 ]\n",
            " [ 120.70785352   56.58550468]\n",
            " [ -74.12827031 -111.97091878]\n",
            " [ 132.31759287   25.79398483]\n",
            " [-100.93057781  151.36316459]\n",
            " [  19.55128584  -67.92677834]\n",
            " [  49.77147826  -48.25033667]\n",
            " [  11.07402232  -61.48822496]\n",
            " [  65.00899433   96.32422934]\n",
            " [  68.2626778   -32.71055049]\n",
            " [ -58.45553839  -55.32175189]\n",
            " [ 124.27963392   24.47458869]\n",
            " [ -86.88931727  -99.3303442 ]\n",
            " [ -12.88583838  -73.59635072]\n",
            " [ -11.25129371  -95.60655817]\n",
            " [ -40.57561094  -71.04330398]\n",
            " [ -98.87923662   69.91610769]\n",
            " [  85.96699555   61.2577528 ]\n",
            " [ 132.44048918   -4.14741412]\n",
            " [  48.90980111   -4.90413155]\n",
            " [ 114.803083    -19.07311359]\n",
            " [ -98.67483978 -130.89391587]\n",
            " [  67.3358686    57.08125662]\n",
            " [ -66.12402159  -81.98309811]\n",
            " [  42.63011111  -38.87562183]\n",
            " [ -99.85586236    9.18275029]\n",
            " [  -9.5950222   -64.18084359]\n",
            " [ -87.8987012   184.57248103]\n",
            " [ -28.13905697  -75.73758307]\n",
            " [ 115.53842916   47.50365302]\n",
            " [ -96.49492234  143.8116167 ]]\n"
          ]
        }
      ],
      "source": [
        "# TODO: enter code here\n",
        "\n",
        "# 1. Center ข้อมูล สมมติว่า data_c คือ normalized (centered) data\n",
        "data_c = data-np.mean(data, axis=0)\n",
        "# 2. หา covariance matrix\n",
        "co = np.cov(data_c, rowvar=False)\n",
        "# 3. Decompose the covariance matrix UDU^T\n",
        "spec = np.linalg.eigh(co)\n",
        "D = spec[0]\n",
        "U = spec[1]\n",
        "dia = np.diag(D)\n",
        "# 4. ดึง column ของ U ที่ประกอบไปด้วย eigenvector สองตัวที่มีค่า eigenvalue สูงที่สุด\n",
        "eivec = np.linalg.eigh(U)\n",
        "# 5. เอา data_c ไปทำ projection ทิศทางของ eigenvector ใน U\n",
        "U_23 = U[:,-2:]\n",
        "pro = data_c @ U_23\n",
        "# Result: a (50,2) matrix\n",
        "print(pro)\n"
      ]
    },
    {
      "cell_type": "markdown",
      "metadata": {
        "id": "refYgya0jlfh"
      },
      "source": [
        "#### OPTIONAL\n",
        "\n",
        "ใน code block ข้างล่างนี้ จงทำ PCA บนข้อมูลที่ได้มาให้เหลือเมทริกซ์ข้อมูลที่มีตัวแปรแค่ 2 ตัว โดยใช้ $scikit-learn$  \n",
        "พร้อมกับตรวจสอบว่าเมทริกซ์ที่ได้จากทั้งสองวิธีนี้มีค่าเท่ากัน (ต่างกันแค่ค่าบวกลบ)"
      ]
    },
    {
      "cell_type": "code",
      "execution_count": 9,
      "metadata": {
        "id": "TWoz-qMICQsv"
      },
      "outputs": [],
      "source": [
        "pca = PCA(n_components=2)\n",
        "pca_sklearn = pca.fit_transform(data)"
      ]
    },
    {
      "cell_type": "markdown",
      "metadata": {
        "id": "kvxBs5Hlk5rZ"
      },
      "source": [
        "#### Exercise 2\n",
        "\n",
        "ทำการพล็อตจุดของข้อมูลที่ได้จาก PCA ข้างบนพร้อมกับใส่คำกำกับว่าจุดไหนเป็นของสัตว์ชนิดใดโดยใช้ชื่อสัตว์จาก classes.txt"
      ]
    },
    {
      "cell_type": "code",
      "execution_count": null,
      "metadata": {
        "id": "2srU_UiTbhS9",
        "collapsed": true
      },
      "outputs": [],
      "source": [
        "# กำหนดขนาดของรูป\n",
        "plt.figure(figsize=(12,16))\n",
        "\n",
        "# จงเติม argument ที่เหมาะสมในวงเล็บข้างล่างนี้\n",
        "# รูปแบบของฟังก์ชันคือ plt.scatter(numpy array ของ x-coordinate, numpy array ของ y-coordinate)\n",
        "plt.scatter(pro[:,0], pro[:,1]) #TODO: 1st column of your 50x2 matrix, #TODO: 2nd column of your 50x2 matrix )\n",
        "\n",
        "# for loop เพื่อใส่คำกำกับ (annotate) ชื่อสัตว์ของแต่ละจุด วนให้ครบสัตว์ทุกชนิดที่อยู่ใน classes\n",
        "# ใส่ numpy array ที่ผ่านการทำ PCA แล้วลงในตำแหน่งที่ระบุเพื่อบอกพิกัดที่ต้องวางคำกำกับ\n",
        "for i in range(50):\n",
        "    plt.annotate(classes[i,1],\n",
        "                 xy=(pro[i,0], pro[i,1]),\n",
        "                 xytext=(5, -8),\n",
        "                 textcoords='offset pixels')\n",
        "\n",
        "\n",
        "\n",
        "plt.show()"
      ]
    },
    {
      "cell_type": "markdown",
      "metadata": {
        "id": "pp8J2lKI0Vea"
      },
      "source": [
        "#### Exercise 3\n",
        "\n",
        "หากลุ่มสัตว์ต่างๆ ที่อยู่ใกล้กันมา 4 กลุ่ม แล้วลองอธิบายว่าสัตว์ในแต่ละกลุ่มมีอะไรที่เหมือนกัน"
      ]
    },
    {
      "cell_type": "markdown",
      "metadata": {
        "id": "SvI3Rwjcpt6c"
      },
      "source": [
        "1. บริเวณx=0ถึง50,y=0ถึง250 บริเวณนี้สัตว์ส่วนใหญ่จะเป็นสัตว์จำพวกสัตว์เดิน4ขาที่รู้จักการใช้แขนในการดำรงชีวิต และมีความสามารถในเรียนรู้ที่โดดเด่นกว่าสัตว์กลุ่มอื่น\n",
        "2.บริเวณx=-100ถึง0,y=-100ถึง-50 พบว่าบริเวรนี้สัตว์ส่วนใหญ่จะเป็นสัตว์หน้าขน,เดิน4ขาแล้วเป็นสัตว์กินเนื้อและนักล่าทั้งหมด และเป็นสัตว์เลี้ยงลูกด้วยนมทั่งหมด\n",
        "3.บริเวณx=-150ถึง≈-120,y≈140ถึง200+ สัตว์กลุ่มนี้จะเป็นสัตว์น้ำทะเลขนาดใหญ่หลายชนิด มีลักษณะเด่นคือจะมีครีบใช้ในการว่ายน้ำ และมีWalrusเพียง1สิ่งมีชีวติที่เป็นครึ่งยกครึ่งน้ำ\n",
        "4.บริเวณx=50ถึง100+,y=0ถึง100 บริเวณนี้สัตว์ส่วนใหญ่จะเป็นสัตว์เลั้ยงลูกด้วยนมและมีขนาดใหญ่เป็นส่วนมาก, พบว่าสัวต์บางชนิดมีลักษณะเด่นคือ มีบริเวณเขา/งางอกออกมาจากหัว"
      ]
    }
  ],
  "metadata": {
    "colab": {
      "name": "229351-LAB03-02.ipynb",
      "provenance": []
    },
    "kernelspec": {
      "display_name": "Python 3 (ipykernel)",
      "language": "python",
      "name": "python3"
    },
    "language_info": {
      "codemirror_mode": {
        "name": "ipython",
        "version": 3
      },
      "file_extension": ".py",
      "mimetype": "text/x-python",
      "name": "python",
      "nbconvert_exporter": "python",
      "pygments_lexer": "ipython3",
      "version": "3.10.12"
    }
  },
  "nbformat": 4,
  "nbformat_minor": 0
}